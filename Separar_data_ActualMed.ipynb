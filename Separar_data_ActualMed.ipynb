{
 "cells": [
  {
   "cell_type": "code",
   "execution_count": 36,
   "metadata": {},
   "outputs": [],
   "source": [
    "import numpy as np\n",
    "import pandas as pd\n",
    "import os\n",
    "import shutil\n",
    "import cv2"
   ]
  },
  {
   "cell_type": "code",
   "execution_count": 37,
   "metadata": {},
   "outputs": [],
   "source": [
    "savepath = 'C:/Users/Francisco/Desktop/Noveno Ciclo/Informatica Industrial/PROYECTO/DATASET/Data_separada_ActualMed_SOLO_COVID'\n",
    "\n",
    "#Direccion para la base de datos ActualMed.\n",
    "actmed_imgpath = 'C:/Users/Francisco/Desktop/Noveno Ciclo/Informatica Industrial/PROYECTO/Actualmed-COVID-chestxray-dataset-master/images' \n",
    "actmed_xlsxpath = 'C:/Users/Francisco/Desktop/Noveno Ciclo/Informatica Industrial/PROYECTO/Actualmed-COVID-chestxray-dataset-master/metadata.xlsx'"
   ]
  },
  {
   "cell_type": "code",
   "execution_count": 38,
   "metadata": {},
   "outputs": [],
   "source": [
    "actmed_xlsx = pd.read_excel(actmed_xlsxpath)\n",
    "views = [\"PA\", \"AP\"]  #vistas de las radiografias de interes\n",
    "actmed_idx_keep = actmed_xlsx.view.isin(views)                     #Valores de \"true\" en las vistas de interes\n",
    "#print(actmed_idx_keep) \n",
    "actmed_xlsx = actmed_xlsx[actmed_idx_keep]                           #Nueva matriz de datos con las vistas de interes\n",
    "#print(actmed_xlsx)"
   ]
  },
  {
   "cell_type": "code",
   "execution_count": 40,
   "metadata": {},
   "outputs": [
    {
     "name": "stdout",
     "output_type": "stream",
     "text": [
      "{'COVID-19': 58}\n"
     ]
    }
   ],
   "source": [
    "filename_label = {'COVID-19': []}\n",
    "count = {'COVID-19': 0}\n",
    "\n",
    "for index, row in actmed_xlsx.iterrows():   #Iterar en cada fila de la metadata.xlsx\n",
    "    f = row['finding'] # toma todas las filas de la columna finding\n",
    "    #print (f)\n",
    "    if f == 'COVID-19': #    #Si el valor encontrado en la columna \"finding\" es igual a \"COVID-19\"\n",
    "        count['COVID-19'] += 1  #Incrementar en 1 el valor de la clase correspondiente\n",
    "        #entry = [row['filename'], mapping[f], 'cohen'] #Queremos saber que archivo es el que identifico y le agregamos la clase\n",
    "        entry = row['imagename']\n",
    "        filename_label['COVID-19'].append(entry)\n",
    "print(count)\n",
    "#print(filename_label)"
   ]
  },
  {
   "cell_type": "code",
   "execution_count": 35,
   "metadata": {},
   "outputs": [],
   "source": [
    "#actmed_imgpath\n",
    "for im in os.scandir(actmed_imgpath):\n",
    "    if im.name in filename_label['COVID-19']:\n",
    "        shutil.copy(os.path.join(cohen_imgpath,im.name),savepath)"
   ]
  },
  {
   "cell_type": "code",
   "execution_count": null,
   "metadata": {},
   "outputs": [],
   "source": []
  }
 ],
 "metadata": {
  "kernelspec": {
   "display_name": "Python 3",
   "language": "python",
   "name": "python3"
  },
  "language_info": {
   "codemirror_mode": {
    "name": "ipython",
    "version": 3
   },
   "file_extension": ".py",
   "mimetype": "text/x-python",
   "name": "python",
   "nbconvert_exporter": "python",
   "pygments_lexer": "ipython3",
   "version": "3.7.7"
  }
 },
 "nbformat": 4,
 "nbformat_minor": 4
}
