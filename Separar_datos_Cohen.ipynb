{
 "cells": [
  {
   "cell_type": "code",
   "execution_count": 1,
   "metadata": {},
   "outputs": [],
   "source": [
    "import numpy as np\n",
    "import pandas as pd\n",
    "import os\n",
    "import shutil\n",
    "import cv2"
   ]
  },
  {
   "cell_type": "code",
   "execution_count": 2,
   "metadata": {},
   "outputs": [],
   "source": [
    "#configuracion de los parametros\n",
    "savepath = 'C:/Users/Francisco/Desktop/Noveno Ciclo/Informatica Industrial/PROYECTO/DATASET/Data_separada_Cohen'\n",
    "\n",
    "#Direccion para la base de datos del estudio de Cohen.\n",
    "cohen_imgpath = 'C:/Users/Francisco/Desktop/Noveno Ciclo/Informatica Industrial/PROYECTO/covid-chestxray-dataset-master/images' \n",
    "cohen_xlsxpath = 'C:/Users/Francisco/Desktop/Noveno Ciclo/Informatica Industrial/PROYECTO/covid-chestxray-dataset-master/metadata.xlsx'"
   ]
  },
  {
   "cell_type": "code",
   "execution_count": 3,
   "metadata": {},
   "outputs": [],
   "source": [
    "mapping = dict()                             #Diccionario para interpretar los datos del estudio de cohen (Actualizado)\n",
    "mapping['COVID-19'] = 'COVID-19'\n",
    "mapping['SARS'] = 'pneumonia'\n",
    "mapping['Streptococcus'] = 'pneumonia'\n",
    "mapping['Klebsiella'] = 'pneumonia'\n",
    "mapping['Chlamydophila'] = 'pneumonia'\n",
    "mapping['Legionella'] = 'pneumonia'\n"
   ]
  },
  {
   "cell_type": "code",
   "execution_count": 7,
   "metadata": {},
   "outputs": [
    {
     "name": "stdout",
     "output_type": "stream",
     "text": [
      "0      True\n",
      "1      True\n",
      "2      True\n",
      "3      True\n",
      "4      True\n",
      "       ... \n",
      "751    True\n",
      "752    True\n",
      "753    True\n",
      "754    True\n",
      "755    True\n",
      "Name: view, Length: 756, dtype: bool\n",
      "(576, 29)\n"
     ]
    }
   ],
   "source": [
    "cohen_xlsx = pd.read_excel(cohen_xlsxpath)\n",
    "views = [\"PA\", \"AP\", \"AP Supine\", \"AP semi erect\", \"AP erect\"]  #vistas de las radiografias de interes\n",
    "cohen_idx_keep = cohen_xlsx.view.isin(views)                     #Valores de \"true\" en las vistas de interes\n",
    "print(cohen_idx_keep) \n",
    "cohen_xlsx = cohen_xlsx[cohen_idx_keep]                           #Nueva matriz de datos con las vistas de interes\n",
    "print(cohen_xlsx.shape)"
   ]
  },
  {
   "cell_type": "code",
   "execution_count": 164,
   "metadata": {},
   "outputs": [
    {
     "name": "stdout",
     "output_type": "stream",
     "text": [
      "{'normal': 0, 'pneumonia': 40, 'COVID-19': 415}\n"
     ]
    }
   ],
   "source": [
    "filename_label = {'normal': [], 'pneumonia': [], 'COVID-19': []}\n",
    "count = {'normal': 0, 'pneumonia': 0, 'COVID-19': 0}\n",
    "\n",
    "\n",
    "for index, row in cohen_xlsx.iterrows():   #Iterar en cada fila de la metadata.xlsx\n",
    "    f = row['finding'] # take the first finding, for the case of COVID-19, ARDS\n",
    "    tm = row['modality']  #tipo de modalidad de la imagen (especificamente necesito radiografias)\n",
    "    #print (f)\n",
    "    if f in mapping and tm=='X-ray': #    #Si el valor encontrado en la columna \"finding\" es igual a algun valor en el diccionario\n",
    "        count[mapping[f]] += 1  #Incrementar en 1 el valor de la clase correspondiente\n",
    "        entry = row['filename']\n",
    "        filename_label[mapping[f]].append(entry)\n",
    "        \n",
    "print(count)"
   ]
  },
  {
   "cell_type": "code",
   "execution_count": 160,
   "metadata": {},
   "outputs": [],
   "source": [
    "#cohen_imgpath\n",
    "for im in os.scandir(cohen_imgpath):\n",
    "    if im.name in filename_label['COVID-19']:\n",
    "        shutil.copy(os.path.join(cohen_imgpath,im.name),os.path.join(savepath,'COVID'))\n",
    "    elif im.name in filename_label['pneumonia']:\n",
    "        shutil.copy(os.path.join(cohen_imgpath,im.name),os.path.join(savepath,'PNEUMONIA'))"
   ]
  }
 ],
 "metadata": {
  "kernelspec": {
   "display_name": "Python 3",
   "language": "python",
   "name": "python3"
  },
  "language_info": {
   "codemirror_mode": {
    "name": "ipython",
    "version": 3
   },
   "file_extension": ".py",
   "mimetype": "text/x-python",
   "name": "python",
   "nbconvert_exporter": "python",
   "pygments_lexer": "ipython3",
   "version": "3.7.7"
  }
 },
 "nbformat": 4,
 "nbformat_minor": 4
}
