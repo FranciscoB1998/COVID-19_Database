{
 "cells": [
  {
   "cell_type": "code",
   "execution_count": 8,
   "metadata": {},
   "outputs": [],
   "source": [
    "import numpy as np\n",
    "import pandas as pd\n",
    "import os\n",
    "import shutil\n",
    "from sklearn.model_selection import train_test_split \n",
    "import cv2\n",
    "from tensorflow.keras.preprocessing import image"
   ]
  },
  {
   "cell_type": "code",
   "execution_count": 11,
   "metadata": {},
   "outputs": [],
   "source": [
    "savepath = 'C:/Users/Francisco/Desktop/Noveno Ciclo/Informatica Industrial/PROYECTO/DATASET'\n",
    "\n",
    "ROW, COL=480,480\n",
    "\n",
    "covid_path='C:/Users/Francisco/Desktop/Noveno Ciclo/Informatica Industrial/PROYECTO/DATASET/COVID'\n",
    "neumonia_path='C:/Users/Francisco/Desktop/Noveno Ciclo/Informatica Industrial/PROYECTO/DATASET/NO COVID_vn'\n",
    "normal_path='C:/Users/Francisco/Desktop/Noveno Ciclo/Informatica Industrial/PROYECTO/DATASET/NORMAL'"
   ]
  },
  {
   "cell_type": "code",
   "execution_count": 12,
   "metadata": {},
   "outputs": [
    {
     "name": "stdout",
     "output_type": "stream",
     "text": [
      "727\n",
      "508\n",
      "219\n"
     ]
    }
   ],
   "source": [
    "covid_list=os.listdir(covid_path) # 100% de los datos de covid\n",
    "print(len(covid_list))\n",
    "#COVID\n",
    "train_covid, test_covid = train_test_split(covid_list, test_size = 0.30,random_state = 0)\n",
    "#print(train_covid)\n",
    "print(len(train_covid))\n",
    "print(len(test_covid))"
   ]
  },
  {
   "cell_type": "code",
   "execution_count": 13,
   "metadata": {},
   "outputs": [
    {
     "name": "stdout",
     "output_type": "stream",
     "text": [
      "7397\n",
      "5177\n",
      "2220\n"
     ]
    }
   ],
   "source": [
    "neumonia_list=os.listdir(neumonia_path) # 100% de los datos de covid\n",
    "print(len(neumonia_list))\n",
    "#NEUMONIA\n",
    "train_neumonia, test_neumonia = train_test_split(neumonia_list, test_size = 0.30,random_state = 0)\n",
    "#print(train_covid)\n",
    "print(len(train_neumonia))\n",
    "print(len(test_neumonia))"
   ]
  },
  {
   "cell_type": "code",
   "execution_count": 5,
   "metadata": {},
   "outputs": [
    {
     "name": "stdout",
     "output_type": "stream",
     "text": [
      "22013\n",
      "15409\n",
      "6604\n"
     ]
    }
   ],
   "source": [
    "normal_list=os.listdir(normal_path) # 100% de los datos de covid\n",
    "print(len(normal_list))\n",
    "#NORMAL\n",
    "train_normal, test_normal = train_test_split(normal_list, test_size = 0.30,random_state = 0)\n",
    "#print(train_covid)\n",
    "print(len(train_normal))\n",
    "print(len(test_normal))"
   ]
  },
  {
   "cell_type": "code",
   "execution_count": 107,
   "metadata": {},
   "outputs": [],
   "source": [
    "contador_train=0;\n",
    "contador_test=0;\n",
    "for im in os.scandir(covid_path):\n",
    "    if im.name in train_covid:\n",
    "        covid=cv2.imread(os.path.join(covid_path,im.name))\n",
    "        covid=cv2.cvtColor(covid,cv2.COLOR_BGR2GRAY)\n",
    "        covid=cv2.resize(covid,(ROW,COL))\n",
    "        covid=image.img_to_array(covid)\n",
    "        name_img='COVID'+'.'+str(contador_train)+'.jpg'\n",
    "        contador_train+=1\n",
    "        cv2.imwrite(os.path.join(savepath,'train',name_img),covid)\n",
    "        \n",
    "    elif im.name in test_covid:\n",
    "        covid=cv2.imread(os.path.join(covid_path,im.name))\n",
    "        covid=cv2.cvtColor(covid,cv2.COLOR_BGR2GRAY)\n",
    "        covid=cv2.resize(covid,(ROW,COL))\n",
    "        covid=image.img_to_array(covid)\n",
    "        name_img='COVID'+'.'+str(contador_test)+'.jpg'\n",
    "        contador_test+=1\n",
    "        cv2.imwrite(os.path.join(savepath,'test',name_img),covid)"
   ]
  },
  {
   "cell_type": "code",
   "execution_count": 108,
   "metadata": {},
   "outputs": [
    {
     "name": "stdout",
     "output_type": "stream",
     "text": [
      "508\n",
      "219\n"
     ]
    }
   ],
   "source": [
    "print(contador_train)\n",
    "print(contador_test)"
   ]
  },
  {
   "cell_type": "code",
   "execution_count": 15,
   "metadata": {},
   "outputs": [
    {
     "name": "stdout",
     "output_type": "stream",
     "text": [
      "5177\n",
      "2220\n"
     ]
    }
   ],
   "source": [
    "contador_train=0;\n",
    "contador_test=0;\n",
    "for im in os.scandir(neumonia_path):\n",
    "    if im.name in train_neumonia:\n",
    "        neumonia=cv2.imread(os.path.join(neumonia_path,im.name))\n",
    "        neumonia=cv2.cvtColor(neumonia,cv2.COLOR_BGR2GRAY)\n",
    "        neumonia=cv2.resize(neumonia,(ROW,COL))\n",
    "        neumonia=image.img_to_array(neumonia)\n",
    "        name_img='NEUMONIA'+'.'+str(contador_train)+'.jpg'\n",
    "        contador_train+=1\n",
    "        cv2.imwrite(os.path.join(savepath,'train',name_img),neumonia)\n",
    "        \n",
    "    elif im.name in test_neumonia:\n",
    "        neumonia=cv2.imread(os.path.join(neumonia_path,im.name))\n",
    "        neumonia=cv2.cvtColor(neumonia,cv2.COLOR_BGR2GRAY)\n",
    "        neumonia=cv2.resize(neumonia,(ROW,COL))\n",
    "        neumonia=image.img_to_array(neumonia)\n",
    "        name_img='NEUMONIA'+'.'+str(contador_test)+'.jpg'\n",
    "        contador_test+=1\n",
    "        cv2.imwrite(os.path.join(savepath,'test',name_img),neumonia)\n",
    "        \n",
    "print(contador_train)\n",
    "print(contador_test)"
   ]
  },
  {
   "cell_type": "code",
   "execution_count": 7,
   "metadata": {},
   "outputs": [
    {
     "name": "stdout",
     "output_type": "stream",
     "text": [
      "15409\n",
      "6604\n"
     ]
    }
   ],
   "source": [
    "contador_train=0;\n",
    "contador_test=0;\n",
    "for im in os.scandir(normal_path):\n",
    "    if im.name in train_normal:\n",
    "        normal=cv2.imread(os.path.join(normal_path,im.name))\n",
    "        normal=cv2.cvtColor(normal,cv2.COLOR_BGR2GRAY)\n",
    "        normal=cv2.resize(normal,(ROW,COL))\n",
    "        normal=image.img_to_array(normal)\n",
    "        name_img='NORMAL'+'.'+str(contador_train)+'.jpg'\n",
    "        contador_train+=1\n",
    "        cv2.imwrite(os.path.join(savepath,'train',name_img),normal)\n",
    "        \n",
    "    elif im.name in test_normal:\n",
    "        normal=cv2.imread(os.path.join(normal_path,im.name))\n",
    "        normal=cv2.cvtColor(normal,cv2.COLOR_BGR2GRAY)\n",
    "        normal=cv2.resize(normal,(ROW,COL))\n",
    "        normal=image.img_to_array(normal)\n",
    "        name_img='NORMAL'+'.'+str(contador_test)+'.jpg'\n",
    "        contador_test+=1\n",
    "        cv2.imwrite(os.path.join(savepath,'test',name_img),normal)\n",
    "        \n",
    "print(contador_train)\n",
    "print(contador_test)"
   ]
  },
  {
   "cell_type": "code",
   "execution_count": null,
   "metadata": {},
   "outputs": [],
   "source": []
  }
 ],
 "metadata": {
  "kernelspec": {
   "display_name": "Python 3",
   "language": "python",
   "name": "python3"
  },
  "language_info": {
   "codemirror_mode": {
    "name": "ipython",
    "version": 3
   },
   "file_extension": ".py",
   "mimetype": "text/x-python",
   "name": "python",
   "nbconvert_exporter": "python",
   "pygments_lexer": "ipython3",
   "version": "3.7.7"
  }
 },
 "nbformat": 4,
 "nbformat_minor": 4
}
